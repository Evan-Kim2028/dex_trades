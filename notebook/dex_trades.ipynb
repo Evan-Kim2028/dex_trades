{
 "cells": [
  {
   "cell_type": "code",
   "execution_count": 1,
   "metadata": {},
   "outputs": [],
   "source": [
    "from dex_trades import DexTrades\n",
    "from preprocess_dex import *"
   ]
  },
  {
   "cell_type": "code",
   "execution_count": 4,
   "metadata": {},
   "outputs": [
    {
     "name": "stdout",
     "output_type": "stream",
     "text": [
      "/home/evan/Documents/github/dex_trades\n"
     ]
    }
   ],
   "source": [
    "# required so that the notebook can read `subgraphs.csv`\n",
    "cd .."
   ]
  },
  {
   "cell_type": "code",
   "execution_count": 5,
   "metadata": {},
   "outputs": [],
   "source": [
    "dex_trades = DexTrades()"
   ]
  },
  {
   "cell_type": "code",
   "execution_count": 8,
   "metadata": {},
   "outputs": [
    {
     "name": "stdout",
     "output_type": "stream",
     "text": [
      "Requirement already satisfied: nest_asyncio in ./.venv/lib/python3.10/site-packages (1.5.6)\n"
     ]
    }
   ],
   "source": [
    "!pip install nest_asyncio"
   ]
  },
  {
   "cell_type": "code",
   "execution_count": 9,
   "metadata": {},
   "outputs": [],
   "source": [
    "# required to run asyncio in jupyter notebook\n",
    "import nest_asyncio\n",
    "nest_asyncio.apply()"
   ]
  },
  {
   "cell_type": "code",
   "execution_count": 10,
   "metadata": {},
   "outputs": [
    {
     "name": "stdout",
     "output_type": "stream",
     "text": [
      "Querying endpoint: balancerv2\n",
      "Querying endpoint: balancerv2\n",
      "Querying endpoint: balancerv2\n",
      "Querying endpoint: balancerv2\n",
      "Querying endpoint: balancerv2\n",
      "Querying endpoint: curve\n",
      "Querying endpoint: curve\n",
      "Querying endpoint: curve\n",
      "Querying endpoint: curve\n",
      "Querying endpoint: curve\n",
      "Querying endpoint: uniswapv3\n",
      "Querying endpoint: uniswapv3\n",
      "Shape: (750, 13)\n",
      "Schema: {'hash': Utf8, 'to': Utf8, 'from': Utf8, 'blockNumber': Int64, 'amountIn': Float64, 'amountOut': Float64, 'amountInUSD': Float64, 'amountOutUSD': Float64, 'id': Utf8, 'timestamp': Int64, 'tokenIn_symbol': Utf8, 'tokenOut_symbol': Utf8, 'pool_id': Utf8}\n",
      "Function 'query_entity' executed in 4.4742s\n",
      "Querying endpoint: uniswapv3\n",
      "Shape: (750, 13)\n",
      "Schema: {'hash': Utf8, 'to': Utf8, 'from': Utf8, 'blockNumber': Int64, 'amountIn': Float64, 'amountOut': Float64, 'amountInUSD': Float64, 'amountOutUSD': Float64, 'id': Utf8, 'timestamp': Int64, 'tokenIn_symbol': Utf8, 'tokenOut_symbol': Utf8, 'pool_id': Utf8}\n",
      "Function 'query_entity' executed in 5.1558s\n",
      "Querying endpoint: uniswapv3\n",
      "Shape: (750, 13)\n",
      "Schema: {'hash': Utf8, 'to': Utf8, 'from': Utf8, 'blockNumber': Int64, 'amountIn': Float64, 'amountOut': Float64, 'amountInUSD': Float64, 'amountOutUSD': Float64, 'id': Utf8, 'timestamp': Int64, 'tokenIn_symbol': Utf8, 'tokenOut_symbol': Utf8, 'pool_id': Utf8}\n",
      "Function 'query_entity' executed in 5.1375s\n",
      "Querying endpoint: uniswapv3\n",
      "Shape: (750, 13)\n",
      "Schema: {'hash': Utf8, 'to': Utf8, 'from': Utf8, 'blockNumber': Int64, 'amountIn': Float64, 'amountOut': Float64, 'amountInUSD': Float64, 'amountOutUSD': Float64, 'id': Utf8, 'timestamp': Int64, 'tokenIn_symbol': Utf8, 'tokenOut_symbol': Utf8, 'pool_id': Utf8}\n",
      "Function 'query_entity' executed in 5.8203s\n",
      "Shape: (750, 13)\n",
      "Schema: {'hash': Utf8, 'to': Utf8, 'from': Utf8, 'blockNumber': Int64, 'amountIn': Float64, 'amountOut': Float64, 'amountInUSD': Float64, 'amountOutUSD': Float64, 'id': Utf8, 'timestamp': Int64, 'tokenIn_symbol': Utf8, 'tokenOut_symbol': Utf8, 'pool_id': Utf8}\n",
      "Function 'query_entity' executed in 5.9744s\n",
      "Shape: (750, 13)\n",
      "Schema: {'hash': Utf8, 'to': Utf8, 'from': Utf8, 'blockNumber': Int64, 'amountIn': Float64, 'amountOut': Float64, 'amountInUSD': Float64, 'amountOutUSD': Float64, 'id': Utf8, 'timestamp': Int64, 'tokenIn_symbol': Utf8, 'tokenOut_symbol': Utf8, 'pool_id': Utf8}\n",
      "Function 'query_entity' executed in 6.4036s\n",
      "Shape: (750, 13)\n",
      "Schema: {'hash': Utf8, 'to': Utf8, 'from': Utf8, 'blockNumber': Int64, 'amountIn': Float64, 'amountOut': Float64, 'amountInUSD': Float64, 'amountOutUSD': Float64, 'id': Utf8, 'timestamp': Int64, 'tokenIn_symbol': Utf8, 'tokenOut_symbol': Utf8, 'pool_id': Utf8}\n",
      "Function 'query_entity' executed in 6.4330s\n",
      "Shape: (750, 13)\n",
      "Schema: {'hash': Utf8, 'to': Utf8, 'from': Utf8, 'blockNumber': Int64, 'amountIn': Float64, 'amountOut': Float64, 'amountInUSD': Float64, 'amountOutUSD': Float64, 'id': Utf8, 'timestamp': Int64, 'tokenIn_symbol': Utf8, 'tokenOut_symbol': Utf8, 'pool_id': Utf8}\n",
      "Function 'query_entity' executed in 6.6979s\n",
      "Shape: (750, 13)\n",
      "Schema: {'hash': Utf8, 'to': Utf8, 'from': Utf8, 'blockNumber': Int64, 'amountIn': Float64, 'amountOut': Float64, 'amountInUSD': Float64, 'amountOutUSD': Float64, 'id': Utf8, 'timestamp': Int64, 'tokenIn_symbol': Utf8, 'tokenOut_symbol': Utf8, 'pool_id': Utf8}\n",
      "Function 'query_entity' executed in 6.4066s\n",
      "Shape: (750, 13)\n",
      "Schema: {'hash': Utf8, 'to': Utf8, 'from': Utf8, 'blockNumber': Int64, 'amountIn': Float64, 'amountOut': Float64, 'amountInUSD': Float64, 'amountOutUSD': Float64, 'id': Utf8, 'timestamp': Int64, 'tokenIn_symbol': Utf8, 'tokenOut_symbol': Utf8, 'pool_id': Utf8}\n",
      "Function 'query_entity' executed in 6.6226s\n",
      "Shape: (750, 13)\n",
      "Schema: {'hash': Utf8, 'to': Utf8, 'from': Utf8, 'blockNumber': Int64, 'amountIn': Float64, 'amountOut': Float64, 'amountInUSD': Float64, 'amountOutUSD': Float64, 'id': Utf8, 'timestamp': Int64, 'tokenIn_symbol': Utf8, 'tokenOut_symbol': Utf8, 'pool_id': Utf8}\n",
      "Function 'query_entity' executed in 6.7064s\n",
      "Shape: (750, 13)\n",
      "Schema: {'hash': Utf8, 'to': Utf8, 'from': Utf8, 'blockNumber': Int64, 'amountIn': Float64, 'amountOut': Float64, 'amountInUSD': Float64, 'amountOutUSD': Float64, 'id': Utf8, 'timestamp': Int64, 'tokenIn_symbol': Utf8, 'tokenOut_symbol': Utf8, 'pool_id': Utf8}\n",
      "Function 'query_entity' executed in 6.7622s\n",
      "Shape: (750, 13)\n",
      "Schema: {'hash': Utf8, 'to': Utf8, 'from': Utf8, 'blockNumber': Int64, 'amountIn': Float64, 'amountOut': Float64, 'amountInUSD': Float64, 'amountOutUSD': Float64, 'id': Utf8, 'timestamp': Int64, 'tokenIn_symbol': Utf8, 'tokenOut_symbol': Utf8, 'pool_id': Utf8}\n",
      "Function 'query_entity' executed in 2.7453s\n",
      "Shape: (750, 13)\n",
      "Schema: {'hash': Utf8, 'to': Utf8, 'from': Utf8, 'blockNumber': Int64, 'amountIn': Float64, 'amountOut': Float64, 'amountInUSD': Float64, 'amountOutUSD': Float64, 'id': Utf8, 'timestamp': Int64, 'tokenIn_symbol': Utf8, 'tokenOut_symbol': Utf8, 'pool_id': Utf8}\n",
      "Function 'query_entity' executed in 2.4256s\n",
      "Shape: (750, 13)\n",
      "Schema: {'hash': Utf8, 'to': Utf8, 'from': Utf8, 'blockNumber': Int64, 'amountIn': Float64, 'amountOut': Float64, 'amountInUSD': Float64, 'amountOutUSD': Float64, 'id': Utf8, 'timestamp': Int64, 'tokenIn_symbol': Utf8, 'tokenOut_symbol': Utf8, 'pool_id': Utf8}\n",
      "Function 'query_entity' executed in 2.5336s\n"
     ]
    }
   ],
   "source": [
    "# query subgraphs\n",
    "dex_trades.query_trades(start_date='2021-07-01', date_range=5, query_size = 750)"
   ]
  },
  {
   "cell_type": "code",
   "execution_count": 11,
   "metadata": {},
   "outputs": [],
   "source": [
    "# combine daily dfs into a single df\n",
    "for dex in ['balancerv2', 'curve', 'uniswapv3']:\n",
    "    combine_dfs(f'data/{dex}', dex)"
   ]
  },
  {
   "cell_type": "code",
   "execution_count": 12,
   "metadata": {},
   "outputs": [],
   "source": [
    "# load curve_trades\n",
    "curve_trades = pl.read_parquet('data/curve_trades.parquet')"
   ]
  },
  {
   "cell_type": "code",
   "execution_count": 13,
   "metadata": {},
   "outputs": [
    {
     "data": {
      "text/html": [
       "<div><style>\n",
       ".dataframe > thead > tr > th,\n",
       ".dataframe > tbody > tr > td {\n",
       "  text-align: right;\n",
       "}\n",
       "</style>\n",
       "<small>shape: (3_750, 13)</small><table border=\"1\" class=\"dataframe\"><thead><tr><th>hash</th><th>to</th><th>from</th><th>blockNumber</th><th>amountIn</th><th>amountOut</th><th>amountInUSD</th><th>amountOutUSD</th><th>id</th><th>timestamp</th><th>tokenIn_symbol</th><th>tokenOut_symbol</th><th>pool_id</th></tr><tr><td>str</td><td>str</td><td>str</td><td>i64</td><td>f64</td><td>f64</td><td>f64</td><td>f64</td><td>str</td><td>datetime[μs]</td><td>str</td><td>str</td><td>str</td></tr></thead><tbody><tr><td>&quot;0x398da902f19a4a1316ab621d19bc36fb091e6feb68fc3e4463b24e06aeb10d71&quot;</td><td>&quot;0xbebc44782c7db0a1a60cb6fe97d0b483032ff1c7&quot;</td><td>&quot;0xfd3dfb524b2da40c8a6d703c62be36b5d8540626&quot;</td><td>12745930</td><td>1.6275e23</td><td>1.6283e11</td><td>162747.234918</td><td>162830.46807</td><td>&quot;swap-0x398da902f19a4a1316ab621d19bc36fb091e6feb68fc3e4463b24e06aeb10d71-43&quot;</td><td>2021-07-02 03:59:40</td><td>&quot;DAI&quot;</td><td>&quot;USDT&quot;</td><td>&quot;0xbebc44782c7db0a1a60cb6fe97d0b483032ff1c7&quot;</td></tr><tr><td>&quot;0x4bf83ebcb908215f1cea7ac4be70f02b1a326ec54465db94099952195d07d424&quot;</td><td>&quot;0x7fc77b5c7614e1533320ea6ddc2eb61fa00a9714&quot;</td><td>&quot;0xad6034c145530682ed7643478b6678e2e2bbaad6&quot;</td><td>12745922</td><td>3.5856406e7</td><td>3.5844005e7</td><td>11899.198745</td><td>11939.386386</td><td>&quot;swap-0x4bf83ebcb908215f1cea7ac4be70f02b1a326ec54465db94099952195d07d424-125&quot;</td><td>2021-07-02 03:57:22</td><td>&quot;renBTC&quot;</td><td>&quot;WBTC&quot;</td><td>&quot;0x7fc77b5c7614e1533320ea6ddc2eb61fa00a9714&quot;</td></tr><tr><td>&quot;0x759d6ee6f29d9d12987de483f9dea0c6053795a3e1d1da8f800daf7ec5d4d040&quot;</td><td>&quot;0xa96a65c051bf88b4095ee1f2451c2a9d43f53ae2&quot;</td><td>&quot;0x9999990fc8584459008b930b9133338f592150ab&quot;</td><td>12745918</td><td>6.5427e17</td><td>6.3973e17</td><td>1305.397063</td><td>1359.698883</td><td>&quot;swap-0x759d6ee6f29d9d12987de483f9dea0c6053795a3e1d1da8f800daf7ec5d4d040-110&quot;</td><td>2021-07-02 03:56:50</td><td>&quot;aETH&quot;</td><td>&quot;ETH&quot;</td><td>&quot;0xa96a65c051bf88b4095ee1f2451c2a9d43f53ae2&quot;</td></tr><tr><td>&quot;0x0f6658ebd19019e6146ebf09354045970590f1f395e00fd45bfff27ea9324cbe&quot;</td><td>&quot;0x42d7025938bec20b69cbae5a77421082407f053a&quot;</td><td>&quot;0x1bd435f3c054b6e901b7b108a0ab7617c808677b&quot;</td><td>12745917</td><td>3.1873e10</td><td>3.1639e22</td><td>3.1873e-8</td><td>31638.841106</td><td>&quot;swap-0x0f6658ebd19019e6146ebf09354045970590f1f395e00fd45bfff27ea9324cbe-7&quot;</td><td>2021-07-02 03:56:39</td><td>&quot;3Crv&quot;</td><td>&quot;USDP&quot;</td><td>&quot;0x42d7025938bec20b69cbae5a77421082407f053a&quot;</td></tr><tr><td>&quot;0xe73e29d74f169014a03281fe11c735415aeaf102bf062b411c610379aa71f236&quot;</td><td>&quot;0x80466c64868e1ab14a1ddf27a676c3fcbe638fe5&quot;</td><td>&quot;0x22f9dcf4647084d6c31b2765f6910cd85c178c18&quot;</td><td>12745915</td><td>1.6910e11</td><td>5.15000411e8</td><td>169099.143924</td><td>171543.020813</td><td>&quot;swap-0xe73e29d74f169014a03281fe11c735415aeaf102bf062b411c610379aa71f236-170&quot;</td><td>2021-07-02 03:56:11</td><td>&quot;USDT&quot;</td><td>&quot;WBTC&quot;</td><td>&quot;0x80466c64868e1ab14a1ddf27a676c3fcbe638fe5&quot;</td></tr><tr><td>&quot;0x2c259554c286fd34b99afc36efa3289429f4b0e7057aacd5317be5f1a80c123a&quot;</td><td>&quot;0x42d7025938bec20b69cbae5a77421082407f053a&quot;</td><td>&quot;0x1bd435f3c054b6e901b7b108a0ab7617c808677b&quot;</td><td>12745915</td><td>4.3889e10</td><td>4.3566e22</td><td>4.3889e-8</td><td>43566.382993</td><td>&quot;swap-0x2c259554c286fd34b99afc36efa3289429f4b0e7057aacd5317be5f1a80c123a-4&quot;</td><td>2021-07-02 03:56:11</td><td>&quot;3Crv&quot;</td><td>&quot;USDP&quot;</td><td>&quot;0x42d7025938bec20b69cbae5a77421082407f053a&quot;</td></tr><tr><td>&quot;0x50c535c25d7943bbf8adef34420f3ab1982976783f143ca1f7c170b7ae300cb4&quot;</td><td>&quot;0x42d7025938bec20b69cbae5a77421082407f053a&quot;</td><td>&quot;0x1bd435f3c054b6e901b7b108a0ab7617c808677b&quot;</td><td>12745913</td><td>1.2972e23</td><td>1.2887e23</td><td>129715.326675</td><td>128870.971101</td><td>&quot;swap-0x50c535c25d7943bbf8adef34420f3ab1982976783f143ca1f7c170b7ae300cb4-86&quot;</td><td>2021-07-02 03:55:54</td><td>&quot;3Crv&quot;</td><td>&quot;USDP&quot;</td><td>&quot;0x42d7025938bec20b69cbae5a77421082407f053a&quot;</td></tr><tr><td>&quot;0x28ff6f07a3b081d74f30e9e2cfe2c4074e3aeeb929d00e538a491a07a4b426b5&quot;</td><td>&quot;0xdebf20617708857ebe4f679508e7b7863a8a8eee&quot;</td><td>&quot;0xfd3dfb524b2da40c8a6d703c62be36b5d8540626&quot;</td><td>12745909</td><td>1.4378e22</td><td>1.4385e10</td><td>14378.075308</td><td>14385.263286</td><td>&quot;swap-0x28ff6f07a3b081d74f30e9e2cfe2c4074e3aeeb929d00e538a491a07a4b426b5-65&quot;</td><td>2021-07-02 03:55:16</td><td>&quot;DAI&quot;</td><td>&quot;USDC&quot;</td><td>&quot;0xdebf20617708857ebe4f679508e7b7863a8a8eee&quot;</td></tr><tr><td>&quot;0x25a5c74490d1e245e44235eec969013115025dbba9e1c551538059c98579238e&quot;</td><td>&quot;0xa5407eae9ba41422680e2e00537571bcc53efbfd&quot;</td><td>&quot;0xfd3dfb524b2da40c8a6d703c62be36b5d8540626&quot;</td><td>12745908</td><td>1.4130e21</td><td>1.4283e9</td><td>1413.0089</td><td>1428.25014</td><td>&quot;swap-0x25a5c74490d1e245e44235eec969013115025dbba9e1c551538059c98579238e-65&quot;</td><td>2021-07-02 03:55:06</td><td>&quot;sUSD&quot;</td><td>&quot;USDC&quot;</td><td>&quot;0xa5407eae9ba41422680e2e00537571bcc53efbfd&quot;</td></tr><tr><td>&quot;0xe487f6a118b7c422a616314cb11b72a0eb29127efe069ec9a177db1664d1edb6&quot;</td><td>&quot;0xa5407eae9ba41422680e2e00537571bcc53efbfd&quot;</td><td>&quot;0x000000000000abe945c436595ce765a8a261317b&quot;</td><td>12745906</td><td>1.2874e22</td><td>1.3013e10</td><td>12873.80222</td><td>13012.784668</td><td>&quot;swap-0xe487f6a118b7c422a616314cb11b72a0eb29127efe069ec9a177db1664d1edb6-1&quot;</td><td>2021-07-02 03:54:43</td><td>&quot;sUSD&quot;</td><td>&quot;USDC&quot;</td><td>&quot;0xa5407eae9ba41422680e2e00537571bcc53efbfd&quot;</td></tr><tr><td>&quot;0xb1e529a37ceae598ffce29fa61e70fa5170326b792f08d3261bf53fbd5ba6e5e&quot;</td><td>&quot;0x80466c64868e1ab14a1ddf27a676c3fcbe638fe5&quot;</td><td>&quot;0x5af7f71c7747fb0eceb2eef115c3fa34dd4998d3&quot;</td><td>12745905</td><td>2.30714323e8</td><td>3.7143e19</td><td>76849.321024</td><td>79099.65388</td><td>&quot;swap-0xb1e529a37ceae598ffce29fa61e70fa5170326b792f08d3261bf53fbd5ba6e5e-3&quot;</td><td>2021-07-02 03:54:29</td><td>&quot;WBTC&quot;</td><td>&quot;WETH&quot;</td><td>&quot;0x80466c64868e1ab14a1ddf27a676c3fcbe638fe5&quot;</td></tr><tr><td>&quot;0x3b63ba128a7e078299c1674cc9d8b1cd153c4e3529b0271953beb6461bf1fa1e&quot;</td><td>&quot;0x80466c64868e1ab14a1ddf27a676c3fcbe638fe5&quot;</td><td>&quot;0xfd3dfb524b2da40c8a6d703c62be36b5d8540626&quot;</td><td>12745905</td><td>4.4e8</td><td>1.4416e11</td><td>146560.910527</td><td>144156.501494</td><td>&quot;swap-0x3b63ba128a7e078299c1674cc9d8b1cd153c4e3529b0271953beb6461bf1fa1e-102&quot;</td><td>2021-07-02 03:54:29</td><td>&quot;WBTC&quot;</td><td>&quot;USDT&quot;</td><td>&quot;0x80466c64868e1ab14a1ddf27a676c3fcbe638fe5&quot;</td></tr><tr><td>&hellip;</td><td>&hellip;</td><td>&hellip;</td><td>&hellip;</td><td>&hellip;</td><td>&hellip;</td><td>&hellip;</td><td>&hellip;</td><td>&hellip;</td><td>&hellip;</td><td>&hellip;</td><td>&hellip;</td><td>&hellip;</td></tr><tr><td>&quot;0x7c5d90a708f22bb6b7ee794276bb9d667c9e8325bba9ab5e14e84bd488b22d72&quot;</td><td>&quot;0x80466c64868e1ab14a1ddf27a676c3fcbe638fe5&quot;</td><td>&quot;0xda61f40c43857190a010f1b17dbdcb82b199b378&quot;</td><td>12768024</td><td>2.5000e19</td><td>5.5557e10</td><td>55341.537425</td><td>55556.867151</td><td>&quot;swap-0x7c5d90a708f22bb6b7ee794276bb9d667c9e8325bba9ab5e14e84bd488b22d72-42&quot;</td><td>2021-07-05 14:29:51</td><td>&quot;WETH&quot;</td><td>&quot;USDT&quot;</td><td>&quot;0x80466c64868e1ab14a1ddf27a676c3fcbe638fe5&quot;</td></tr><tr><td>&quot;0x4bcba6a9543d214e29423b0326c680344142edd8a68e33e6d4110ad3d647c680&quot;</td><td>&quot;0xa5407eae9ba41422680e2e00537571bcc53efbfd&quot;</td><td>&quot;0xfd3dfb524b2da40c8a6d703c62be36b5d8540626&quot;</td><td>12768017</td><td>4.7309e23</td><td>4.7798e11</td><td>473088.48154</td><td>477980.978349</td><td>&quot;swap-0x4bcba6a9543d214e29423b0326c680344142edd8a68e33e6d4110ad3d647c680-29&quot;</td><td>2021-07-05 14:29:15</td><td>&quot;sUSD&quot;</td><td>&quot;USDC&quot;</td><td>&quot;0xa5407eae9ba41422680e2e00537571bcc53efbfd&quot;</td></tr><tr><td>&quot;0x2fe2fef11dc0fa2c5b3916cf1c5e289986f6145433bd74c710058bd7c2156b24&quot;</td><td>&quot;0xbebc44782c7db0a1a60cb6fe97d0b483032ff1c7&quot;</td><td>&quot;0x027341a3f8d3d72e283a9c0dc48c24a9f8614256&quot;</td><td>12768010</td><td>8.3431e10</td><td>8.3397e10</td><td>83431.431978</td><td>83397.44996</td><td>&quot;swap-0x2fe2fef11dc0fa2c5b3916cf1c5e289986f6145433bd74c710058bd7c2156b24-212&quot;</td><td>2021-07-05 14:27:29</td><td>&quot;USDT&quot;</td><td>&quot;USDC&quot;</td><td>&quot;0xbebc44782c7db0a1a60cb6fe97d0b483032ff1c7&quot;</td></tr><tr><td>&quot;0x7e53d6f69fb90f17ae1e7fa03b67a2b79a22363472eb13914b63e8b27d40126b&quot;</td><td>&quot;0xbebc44782c7db0a1a60cb6fe97d0b483032ff1c7&quot;</td><td>&quot;0x027341a3f8d3d72e283a9c0dc48c24a9f8614256&quot;</td><td>12768005</td><td>3.2210e22</td><td>3.2223e10</td><td>32210.146259</td><td>32223.398696</td><td>&quot;swap-0x7e53d6f69fb90f17ae1e7fa03b67a2b79a22363472eb13914b63e8b27d40126b-84&quot;</td><td>2021-07-05 14:26:21</td><td>&quot;DAI&quot;</td><td>&quot;USDC&quot;</td><td>&quot;0xbebc44782c7db0a1a60cb6fe97d0b483032ff1c7&quot;</td></tr><tr><td>&quot;0xefea359994c63f2fe2fbac36bdab2952cf4e2f2b04f048418ae6869913dca1dd&quot;</td><td>&quot;0xa5407eae9ba41422680e2e00537571bcc53efbfd&quot;</td><td>&quot;0xfd3dfb524b2da40c8a6d703c62be36b5d8540626&quot;</td><td>12767994</td><td>4.4500e9</td><td>4.4490e9</td><td>4450.0</td><td>4448.968115</td><td>&quot;swap-0xefea359994c63f2fe2fbac36bdab2952cf4e2f2b04f048418ae6869913dca1dd-68&quot;</td><td>2021-07-05 14:23:52</td><td>&quot;USDC&quot;</td><td>&quot;USDT&quot;</td><td>&quot;0xa5407eae9ba41422680e2e00537571bcc53efbfd&quot;</td></tr><tr><td>&quot;0x744fb4bc628e3eca6b57c27950c8827fc3537aab5ba324a32c7258f7a67c9990&quot;</td><td>&quot;0x80466c64868e1ab14a1ddf27a676c3fcbe638fe5&quot;</td><td>&quot;0x22f9dcf4647084d6c31b2765f6910cd85c178c18&quot;</td><td>12767992</td><td>4.1445e10</td><td>1.8590e19</td><td>41444.831659</td><td>41151.856024</td><td>&quot;swap-0x744fb4bc628e3eca6b57c27950c8827fc3537aab5ba324a32c7258f7a67c9990-12&quot;</td><td>2021-07-05 14:23:38</td><td>&quot;USDT&quot;</td><td>&quot;WETH&quot;</td><td>&quot;0x80466c64868e1ab14a1ddf27a676c3fcbe638fe5&quot;</td></tr><tr><td>&quot;0x67fa285ece1840b04b330f9958ebc15128480c33f8f28dbb07fbf2ff1da874a1&quot;</td><td>&quot;0x80466c64868e1ab14a1ddf27a676c3fcbe638fe5&quot;</td><td>&quot;0xfd3dfb524b2da40c8a6d703c62be36b5d8540626&quot;</td><td>12767989</td><td>3.3020e10</td><td>1.4822e19</td><td>33019.794025</td><td>32811.003615</td><td>&quot;swap-0x67fa285ece1840b04b330f9958ebc15128480c33f8f28dbb07fbf2ff1da874a1-141&quot;</td><td>2021-07-05 14:23:19</td><td>&quot;USDT&quot;</td><td>&quot;WETH&quot;</td><td>&quot;0x80466c64868e1ab14a1ddf27a676c3fcbe638fe5&quot;</td></tr><tr><td>&quot;0x06b4640e769ec5c481b6e6187053e85dc4f78cff8302611b47cb3d9404a7146b&quot;</td><td>&quot;0xbebc44782c7db0a1a60cb6fe97d0b483032ff1c7&quot;</td><td>&quot;0x724bac5f4c840b976c981ccc795372520009b425&quot;</td><td>12767978</td><td>2.0000e10</td><td>1.9976e22</td><td>20000.0</td><td>19975.807327</td><td>&quot;swap-0x06b4640e769ec5c481b6e6187053e85dc4f78cff8302611b47cb3d9404a7146b-28&quot;</td><td>2021-07-05 14:19:53</td><td>&quot;USDC&quot;</td><td>&quot;DAI&quot;</td><td>&quot;0xbebc44782c7db0a1a60cb6fe97d0b483032ff1c7&quot;</td></tr><tr><td>&quot;0x9fc7e2220ba9564d9bec6fe0c3952d684baa676db66a9616e21c6a0fc7614cca&quot;</td><td>&quot;0xa5407eae9ba41422680e2e00537571bcc53efbfd&quot;</td><td>&quot;0x1c073d5045b1abb6924d5f0f8b2f667b1653a4c3&quot;</td><td>12767968</td><td>1.7443e22</td><td>1.7629e10</td><td>17442.776988</td><td>17628.758059</td><td>&quot;swap-0x9fc7e2220ba9564d9bec6fe0c3952d684baa676db66a9616e21c6a0fc7614cca-0&quot;</td><td>2021-07-05 14:17:53</td><td>&quot;sUSD&quot;</td><td>&quot;USDC&quot;</td><td>&quot;0xa5407eae9ba41422680e2e00537571bcc53efbfd&quot;</td></tr><tr><td>&quot;0x4cf8810786718f5bae267f06d026d8fb333b421e08ac7ce52124b2c73d6bb47f&quot;</td><td>&quot;0xa5407eae9ba41422680e2e00537571bcc53efbfd&quot;</td><td>&quot;0x129b32d5fac69aa3385919adc578b60ae02e3e4c&quot;</td><td>12767936</td><td>9.9746e21</td><td>9.9788e9</td><td>9974.609779</td><td>9978.818087</td><td>&quot;swap-0x4cf8810786718f5bae267f06d026d8fb333b421e08ac7ce52124b2c73d6bb47f-143&quot;</td><td>2021-07-05 14:08:25</td><td>&quot;DAI&quot;</td><td>&quot;USDC&quot;</td><td>&quot;0xa5407eae9ba41422680e2e00537571bcc53efbfd&quot;</td></tr><tr><td>&quot;0x40be0233dbfb9957fcd716a24e489896b83684814b13a6218b92ca547b10ccc1&quot;</td><td>&quot;0xa5407eae9ba41422680e2e00537571bcc53efbfd&quot;</td><td>&quot;0xe5d2ca1ce854985600dc6c0555ac43045e2698e1&quot;</td><td>12767931</td><td>2.4830e10</td><td>2.4824e10</td><td>24830.0</td><td>24824.24988</td><td>&quot;swap-0x40be0233dbfb9957fcd716a24e489896b83684814b13a6218b92ca547b10ccc1-59&quot;</td><td>2021-07-05 14:07:16</td><td>&quot;USDC&quot;</td><td>&quot;USDT&quot;</td><td>&quot;0xa5407eae9ba41422680e2e00537571bcc53efbfd&quot;</td></tr><tr><td>&quot;0xa0a1e8e8e272ee5730f0074ab3f6eda1498d15d6da9bdde389ddc994aa62704b&quot;</td><td>&quot;0xed279fdd11ca84beef15af5d39bb4d4bee23f0ca&quot;</td><td>&quot;0xfd3dfb524b2da40c8a6d703c62be36b5d8540626&quot;</td><td>12767924</td><td>2.0001e23</td><td>2.0193e11</td><td>202137.544232</td><td>201929.033861</td><td>&quot;swap-0xa0a1e8e8e272ee5730f0074ab3f6eda1498d15d6da9bdde389ddc994aa62704b-49&quot;</td><td>2021-07-05 14:06:37</td><td>&quot;LUSD&quot;</td><td>&quot;USDT&quot;</td><td>&quot;0xed279fdd11ca84beef15af5d39bb4d4bee23f0ca&quot;</td></tr></tbody></table></div>"
      ],
      "text/plain": [
       "shape: (3_750, 13)\n",
       "┌───────────┬───────────┬───────────┬───────────┬───┬─────────┬────────────┬────────────┬──────────┐\n",
       "│ hash      ┆ to        ┆ from      ┆ blockNumb ┆ … ┆ timesta ┆ tokenIn_sy ┆ tokenOut_s ┆ pool_id  │\n",
       "│ ---       ┆ ---       ┆ ---       ┆ er        ┆   ┆ mp      ┆ mbol       ┆ ymbol      ┆ ---      │\n",
       "│ str       ┆ str       ┆ str       ┆ ---       ┆   ┆ ---     ┆ ---        ┆ ---        ┆ str      │\n",
       "│           ┆           ┆           ┆ i64       ┆   ┆ datetim ┆ str        ┆ str        ┆          │\n",
       "│           ┆           ┆           ┆           ┆   ┆ e[μs]   ┆            ┆            ┆          │\n",
       "╞═══════════╪═══════════╪═══════════╪═══════════╪═══╪═════════╪════════════╪════════════╪══════════╡\n",
       "│ 0x398da90 ┆ 0xbebc447 ┆ 0xfd3dfb5 ┆ 12745930  ┆ … ┆ 2021-07 ┆ DAI        ┆ USDT       ┆ 0xbebc44 │\n",
       "│ 2f19a4a13 ┆ 82c7db0a1 ┆ 24b2da40c ┆           ┆   ┆ -02 03: ┆            ┆            ┆ 782c7db0 │\n",
       "│ 16ab621d1 ┆ a60cb6fe9 ┆ 8a6d703c6 ┆           ┆   ┆ 59:40   ┆            ┆            ┆ a1a60cb6 │\n",
       "│ 9bc36fb09 ┆ 7d0b48303 ┆ 2be36b5d8 ┆           ┆   ┆         ┆            ┆            ┆ fe97d0b4 │\n",
       "│ 1e6feb68f ┆ 2ff1c7    ┆ 540626    ┆           ┆   ┆         ┆            ┆            ┆ 83032ff1 │\n",
       "│ c3e4463b2 ┆           ┆           ┆           ┆   ┆         ┆            ┆            ┆ c7       │\n",
       "│ 4e06aeb10 ┆           ┆           ┆           ┆   ┆         ┆            ┆            ┆          │\n",
       "│ d71       ┆           ┆           ┆           ┆   ┆         ┆            ┆            ┆          │\n",
       "│ 0x4bf83eb ┆ 0x7fc77b5 ┆ 0xad6034c ┆ 12745922  ┆ … ┆ 2021-07 ┆ renBTC     ┆ WBTC       ┆ 0x7fc77b │\n",
       "│ cb908215f ┆ c7614e153 ┆ 145530682 ┆           ┆   ┆ -02 03: ┆            ┆            ┆ 5c7614e1 │\n",
       "│ 1cea7ac4b ┆ 3320ea6dd ┆ ed7643478 ┆           ┆   ┆ 57:22   ┆            ┆            ┆ 533320ea │\n",
       "│ e70f02b1a ┆ c2eb61fa0 ┆ b6678e2e2 ┆           ┆   ┆         ┆            ┆            ┆ 6ddc2eb6 │\n",
       "│ 326ec5446 ┆ 0a9714    ┆ bbaad6    ┆           ┆   ┆         ┆            ┆            ┆ 1fa00a97 │\n",
       "│ 5db940999 ┆           ┆           ┆           ┆   ┆         ┆            ┆            ┆ 14       │\n",
       "│ 52195d07d ┆           ┆           ┆           ┆   ┆         ┆            ┆            ┆          │\n",
       "│ 424       ┆           ┆           ┆           ┆   ┆         ┆            ┆            ┆          │\n",
       "│ 0x759d6ee ┆ 0xa96a65c ┆ 0x9999990 ┆ 12745918  ┆ … ┆ 2021-07 ┆ aETH       ┆ ETH        ┆ 0xa96a65 │\n",
       "│ 6f29d9d12 ┆ 051bf88b4 ┆ fc8584459 ┆           ┆   ┆ -02 03: ┆            ┆            ┆ c051bf88 │\n",
       "│ 987de483f ┆ 095ee1f24 ┆ 008b930b9 ┆           ┆   ┆ 56:50   ┆            ┆            ┆ b4095ee1 │\n",
       "│ 9dea0c605 ┆ 51c2a9d43 ┆ 133338f59 ┆           ┆   ┆         ┆            ┆            ┆ f2451c2a │\n",
       "│ 3795a3e1d ┆ f53ae2    ┆ 2150ab    ┆           ┆   ┆         ┆            ┆            ┆ 9d43f53a │\n",
       "│ 1da8f800d ┆           ┆           ┆           ┆   ┆         ┆            ┆            ┆ e2       │\n",
       "│ af7ec5d4d ┆           ┆           ┆           ┆   ┆         ┆            ┆            ┆          │\n",
       "│ 040       ┆           ┆           ┆           ┆   ┆         ┆            ┆            ┆          │\n",
       "│ 0x0f6658e ┆ 0x42d7025 ┆ 0x1bd435f ┆ 12745917  ┆ … ┆ 2021-07 ┆ 3Crv       ┆ USDP       ┆ 0x42d702 │\n",
       "│ bd19019e6 ┆ 938bec20b ┆ 3c054b6e9 ┆           ┆   ┆ -02 03: ┆            ┆            ┆ 5938bec2 │\n",
       "│ 146ebf093 ┆ 69cbae5a7 ┆ 01b7b108a ┆           ┆   ┆ 56:39   ┆            ┆            ┆ 0b69cbae │\n",
       "│ 540459705 ┆ 742108240 ┆ 0ab7617c8 ┆           ┆   ┆         ┆            ┆            ┆ 5a774210 │\n",
       "│ 90f1f395e ┆ 7f053a    ┆ 08677b    ┆           ┆   ┆         ┆            ┆            ┆ 82407f05 │\n",
       "│ 00fd45bff ┆           ┆           ┆           ┆   ┆         ┆            ┆            ┆ 3a       │\n",
       "│ f27ea9324 ┆           ┆           ┆           ┆   ┆         ┆            ┆            ┆          │\n",
       "│ cbe       ┆           ┆           ┆           ┆   ┆         ┆            ┆            ┆          │\n",
       "│ …         ┆ …         ┆ …         ┆ …         ┆ … ┆ …       ┆ …          ┆ …          ┆ …        │\n",
       "│ 0x9fc7e22 ┆ 0xa5407ea ┆ 0x1c073d5 ┆ 12767968  ┆ … ┆ 2021-07 ┆ sUSD       ┆ USDC       ┆ 0xa5407e │\n",
       "│ 20ba9564d ┆ e9ba41422 ┆ 045b1abb6 ┆           ┆   ┆ -05 14: ┆            ┆            ┆ ae9ba414 │\n",
       "│ 9bec6fe0c ┆ 680e2e005 ┆ 924d5f0f8 ┆           ┆   ┆ 17:53   ┆            ┆            ┆ 22680e2e │\n",
       "│ 3952d684b ┆ 37571bcc5 ┆ b2f667b16 ┆           ┆   ┆         ┆            ┆            ┆ 00537571 │\n",
       "│ aa676db66 ┆ 3efbfd    ┆ 53a4c3    ┆           ┆   ┆         ┆            ┆            ┆ bcc53efb │\n",
       "│ a9616e21c ┆           ┆           ┆           ┆   ┆         ┆            ┆            ┆ fd       │\n",
       "│ 6a0fc7614 ┆           ┆           ┆           ┆   ┆         ┆            ┆            ┆          │\n",
       "│ cca       ┆           ┆           ┆           ┆   ┆         ┆            ┆            ┆          │\n",
       "│ 0x4cf8810 ┆ 0xa5407ea ┆ 0x129b32d ┆ 12767936  ┆ … ┆ 2021-07 ┆ DAI        ┆ USDC       ┆ 0xa5407e │\n",
       "│ 786718f5b ┆ e9ba41422 ┆ 5fac69aa3 ┆           ┆   ┆ -05 14: ┆            ┆            ┆ ae9ba414 │\n",
       "│ ae267f06d ┆ 680e2e005 ┆ 385919adc ┆           ┆   ┆ 08:25   ┆            ┆            ┆ 22680e2e │\n",
       "│ 026d8fb33 ┆ 37571bcc5 ┆ 578b60ae0 ┆           ┆   ┆         ┆            ┆            ┆ 00537571 │\n",
       "│ 3b421e08a ┆ 3efbfd    ┆ 2e3e4c    ┆           ┆   ┆         ┆            ┆            ┆ bcc53efb │\n",
       "│ c7ce52124 ┆           ┆           ┆           ┆   ┆         ┆            ┆            ┆ fd       │\n",
       "│ b2c73d6bb ┆           ┆           ┆           ┆   ┆         ┆            ┆            ┆          │\n",
       "│ 47f       ┆           ┆           ┆           ┆   ┆         ┆            ┆            ┆          │\n",
       "│ 0x40be023 ┆ 0xa5407ea ┆ 0xe5d2ca1 ┆ 12767931  ┆ … ┆ 2021-07 ┆ USDC       ┆ USDT       ┆ 0xa5407e │\n",
       "│ 3dbfb9957 ┆ e9ba41422 ┆ ce8549856 ┆           ┆   ┆ -05 14: ┆            ┆            ┆ ae9ba414 │\n",
       "│ fcd716a24 ┆ 680e2e005 ┆ 00dc6c055 ┆           ┆   ┆ 07:16   ┆            ┆            ┆ 22680e2e │\n",
       "│ e489896b8 ┆ 37571bcc5 ┆ 5ac43045e ┆           ┆   ┆         ┆            ┆            ┆ 00537571 │\n",
       "│ 3684814b1 ┆ 3efbfd    ┆ 2698e1    ┆           ┆   ┆         ┆            ┆            ┆ bcc53efb │\n",
       "│ 3a6218b92 ┆           ┆           ┆           ┆   ┆         ┆            ┆            ┆ fd       │\n",
       "│ ca547b10c ┆           ┆           ┆           ┆   ┆         ┆            ┆            ┆          │\n",
       "│ cc1       ┆           ┆           ┆           ┆   ┆         ┆            ┆            ┆          │\n",
       "│ 0xa0a1e8e ┆ 0xed279fd ┆ 0xfd3dfb5 ┆ 12767924  ┆ … ┆ 2021-07 ┆ LUSD       ┆ USDT       ┆ 0xed279f │\n",
       "│ 8e272ee57 ┆ d11ca84be ┆ 24b2da40c ┆           ┆   ┆ -05 14: ┆            ┆            ┆ dd11ca84 │\n",
       "│ 30f0074ab ┆ ef15af5d3 ┆ 8a6d703c6 ┆           ┆   ┆ 06:37   ┆            ┆            ┆ beef15af │\n",
       "│ 3f6eda149 ┆ 9bb4d4bee ┆ 2be36b5d8 ┆           ┆   ┆         ┆            ┆            ┆ 5d39bb4d │\n",
       "│ 8d15d6da9 ┆ 23f0ca    ┆ 540626    ┆           ┆   ┆         ┆            ┆            ┆ 4bee23f0 │\n",
       "│ bdde389dd ┆           ┆           ┆           ┆   ┆         ┆            ┆            ┆ ca       │\n",
       "│ c994aa627 ┆           ┆           ┆           ┆   ┆         ┆            ┆            ┆          │\n",
       "│ 04b       ┆           ┆           ┆           ┆   ┆         ┆            ┆            ┆          │\n",
       "└───────────┴───────────┴───────────┴───────────┴───┴─────────┴────────────┴────────────┴──────────┘"
      ]
     },
     "execution_count": 13,
     "metadata": {},
     "output_type": "execute_result"
    }
   ],
   "source": [
    "curve_trades"
   ]
  },
  {
   "cell_type": "code",
   "execution_count": null,
   "metadata": {},
   "outputs": [],
   "source": []
  }
 ],
 "metadata": {
  "kernelspec": {
   "display_name": ".venv",
   "language": "python",
   "name": "python3"
  },
  "language_info": {
   "codemirror_mode": {
    "name": "ipython",
    "version": 3
   },
   "file_extension": ".py",
   "mimetype": "text/x-python",
   "name": "python",
   "nbconvert_exporter": "python",
   "pygments_lexer": "ipython3",
   "version": "3.10.6"
  },
  "orig_nbformat": 4
 },
 "nbformat": 4,
 "nbformat_minor": 2
}
