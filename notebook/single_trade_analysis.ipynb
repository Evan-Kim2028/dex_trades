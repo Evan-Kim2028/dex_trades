{
 "cells": [
  {
   "cell_type": "code",
   "execution_count": 1,
   "metadata": {},
   "outputs": [],
   "source": [
    "import polars as pl"
   ]
  },
  {
   "cell_type": "code",
   "execution_count": 3,
   "metadata": {},
   "outputs": [
    {
     "name": "stdout",
     "output_type": "stream",
     "text": [
      "/home/evan/Documents/github/dex_trades\n"
     ]
    }
   ],
   "source": [
    "cd .."
   ]
  },
  {
   "cell_type": "code",
   "execution_count": 5,
   "metadata": {},
   "outputs": [],
   "source": [
    "# load curve_trades\n",
    "curve_trades = pl.read_parquet('data/curve_trades.parquet')"
   ]
  },
  {
   "cell_type": "code",
   "execution_count": 7,
   "metadata": {},
   "outputs": [
    {
     "data": {
      "text/html": [
       "<div><style>\n",
       ".dataframe > thead > tr > th,\n",
       ".dataframe > tbody > tr > td {\n",
       "  text-align: right;\n",
       "}\n",
       "</style>\n",
       "<small>shape: (5, 14)</small><table border=\"1\" class=\"dataframe\"><thead><tr><th>hash</th><th>to</th><th>from</th><th>blockNumber</th><th>amountIn</th><th>amountOut</th><th>amountInUSD</th><th>amountOutUSD</th><th>id</th><th>timestamp</th><th>tokenIn_symbol</th><th>tokenOut_symbol</th><th>pool_id</th><th>pool_name</th></tr><tr><td>str</td><td>str</td><td>str</td><td>i64</td><td>f64</td><td>f64</td><td>f64</td><td>f64</td><td>str</td><td>datetime[μs]</td><td>str</td><td>str</td><td>str</td><td>str</td></tr></thead><tbody><tr><td>&quot;0x398da902f19a…</td><td>&quot;0xbebc44782c7d…</td><td>&quot;0xfd3dfb524b2d…</td><td>12745930</td><td>1.6275e23</td><td>1.6283e11</td><td>162747.234918</td><td>162830.46807</td><td>&quot;swap-0x398da90…</td><td>2021-07-02 03:59:40</td><td>&quot;DAI&quot;</td><td>&quot;USDT&quot;</td><td>&quot;0xbebc44782c7d…</td><td>&quot;Curve.fi DAI/U…</td></tr><tr><td>&quot;0x4bf83ebcb908…</td><td>&quot;0x7fc77b5c7614…</td><td>&quot;0xad6034c14553…</td><td>12745922</td><td>3.5856406e7</td><td>3.5844005e7</td><td>11899.198745</td><td>11939.386386</td><td>&quot;swap-0x4bf83eb…</td><td>2021-07-02 03:57:22</td><td>&quot;renBTC&quot;</td><td>&quot;WBTC&quot;</td><td>&quot;0x7fc77b5c7614…</td><td>&quot;Curve.fi renBT…</td></tr><tr><td>&quot;0x759d6ee6f29d…</td><td>&quot;0xa96a65c051bf…</td><td>&quot;0x9999990fc858…</td><td>12745918</td><td>6.5427e17</td><td>6.3973e17</td><td>1305.397063</td><td>1359.698883</td><td>&quot;swap-0x759d6ee…</td><td>2021-07-02 03:56:50</td><td>&quot;aETH&quot;</td><td>&quot;ETH&quot;</td><td>&quot;0xa96a65c051bf…</td><td>&quot;Curve.fi ETH/a…</td></tr><tr><td>&quot;0x0f6658ebd190…</td><td>&quot;0x42d7025938be…</td><td>&quot;0x1bd435f3c054…</td><td>12745917</td><td>3.1873e10</td><td>3.1639e22</td><td>3.1873e-8</td><td>31638.841106</td><td>&quot;swap-0x0f6658e…</td><td>2021-07-02 03:56:39</td><td>&quot;3Crv&quot;</td><td>&quot;USDP&quot;</td><td>&quot;0x42d7025938be…</td><td>&quot;Curve.fi USDP/…</td></tr><tr><td>&quot;0xe73e29d74f16…</td><td>&quot;0x80466c64868e…</td><td>&quot;0x22f9dcf46470…</td><td>12745915</td><td>1.6910e11</td><td>5.15000411e8</td><td>169099.143924</td><td>171543.020813</td><td>&quot;swap-0xe73e29d…</td><td>2021-07-02 03:56:11</td><td>&quot;USDT&quot;</td><td>&quot;WBTC&quot;</td><td>&quot;0x80466c64868e…</td><td>&quot;Curve.fi USD-B…</td></tr></tbody></table></div>"
      ],
      "text/plain": [
       "shape: (5, 14)\n",
       "┌───────────┬───────────┬───────────┬───────────┬───┬────────────┬────────────┬──────────┬─────────┐\n",
       "│ hash      ┆ to        ┆ from      ┆ blockNumb ┆ … ┆ tokenIn_sy ┆ tokenOut_s ┆ pool_id  ┆ pool_na │\n",
       "│ ---       ┆ ---       ┆ ---       ┆ er        ┆   ┆ mbol       ┆ ymbol      ┆ ---      ┆ me      │\n",
       "│ str       ┆ str       ┆ str       ┆ ---       ┆   ┆ ---        ┆ ---        ┆ str      ┆ ---     │\n",
       "│           ┆           ┆           ┆ i64       ┆   ┆ str        ┆ str        ┆          ┆ str     │\n",
       "╞═══════════╪═══════════╪═══════════╪═══════════╪═══╪════════════╪════════════╪══════════╪═════════╡\n",
       "│ 0x398da90 ┆ 0xbebc447 ┆ 0xfd3dfb5 ┆ 12745930  ┆ … ┆ DAI        ┆ USDT       ┆ 0xbebc44 ┆ Curve.f │\n",
       "│ 2f19a4a13 ┆ 82c7db0a1 ┆ 24b2da40c ┆           ┆   ┆            ┆            ┆ 782c7db0 ┆ i DAI/U │\n",
       "│ 16ab621d1 ┆ a60cb6fe9 ┆ 8a6d703c6 ┆           ┆   ┆            ┆            ┆ a1a60cb6 ┆ SDC/USD │\n",
       "│ 9bc36…    ┆ 7d0b4…    ┆ 2be36…    ┆           ┆   ┆            ┆            ┆ fe97d0b4 ┆ T       │\n",
       "│           ┆           ┆           ┆           ┆   ┆            ┆            ┆ …        ┆         │\n",
       "│ 0x4bf83eb ┆ 0x7fc77b5 ┆ 0xad6034c ┆ 12745922  ┆ … ┆ renBTC     ┆ WBTC       ┆ 0x7fc77b ┆ Curve.f │\n",
       "│ cb908215f ┆ c7614e153 ┆ 145530682 ┆           ┆   ┆            ┆            ┆ 5c7614e1 ┆ i renBT │\n",
       "│ 1cea7ac4b ┆ 3320ea6dd ┆ ed7643478 ┆           ┆   ┆            ┆            ┆ 533320ea ┆ C/wBTC/ │\n",
       "│ e70f0…    ┆ c2eb6…    ┆ b6678…    ┆           ┆   ┆            ┆            ┆ 6ddc2eb6 ┆ sBTC    │\n",
       "│           ┆           ┆           ┆           ┆   ┆            ┆            ┆ …        ┆         │\n",
       "│ 0x759d6ee ┆ 0xa96a65c ┆ 0x9999990 ┆ 12745918  ┆ … ┆ aETH       ┆ ETH        ┆ 0xa96a65 ┆ Curve.f │\n",
       "│ 6f29d9d12 ┆ 051bf88b4 ┆ fc8584459 ┆           ┆   ┆            ┆            ┆ c051bf88 ┆ i ETH/a │\n",
       "│ 987de483f ┆ 095ee1f24 ┆ 008b930b9 ┆           ┆   ┆            ┆            ┆ b4095ee1 ┆ ETH     │\n",
       "│ 9dea0…    ┆ 51c2a…    ┆ 13333…    ┆           ┆   ┆            ┆            ┆ f2451c2a ┆         │\n",
       "│           ┆           ┆           ┆           ┆   ┆            ┆            ┆ …        ┆         │\n",
       "│ 0x0f6658e ┆ 0x42d7025 ┆ 0x1bd435f ┆ 12745917  ┆ … ┆ 3Crv       ┆ USDP       ┆ 0x42d702 ┆ Curve.f │\n",
       "│ bd19019e6 ┆ 938bec20b ┆ 3c054b6e9 ┆           ┆   ┆            ┆            ┆ 5938bec2 ┆ i USDP/ │\n",
       "│ 146ebf093 ┆ 69cbae5a7 ┆ 01b7b108a ┆           ┆   ┆            ┆            ┆ 0b69cbae ┆ 3Crv    │\n",
       "│ 54045…    ┆ 74210…    ┆ 0ab76…    ┆           ┆   ┆            ┆            ┆ 5a774210 ┆         │\n",
       "│           ┆           ┆           ┆           ┆   ┆            ┆            ┆ …        ┆         │\n",
       "│ 0xe73e29d ┆ 0x80466c6 ┆ 0x22f9dcf ┆ 12745915  ┆ … ┆ USDT       ┆ WBTC       ┆ 0x80466c ┆ Curve.f │\n",
       "│ 74f169014 ┆ 4868e1ab1 ┆ 4647084d6 ┆           ┆   ┆            ┆            ┆ 64868e1a ┆ i USD-B │\n",
       "│ a03281fe1 ┆ 4a1ddf27a ┆ c31b2765f ┆           ┆   ┆            ┆            ┆ b14a1ddf ┆ TC-ETH  │\n",
       "│ 1c735…    ┆ 676c3…    ┆ 6910c…    ┆           ┆   ┆            ┆            ┆ 27a676c3 ┆         │\n",
       "│           ┆           ┆           ┆           ┆   ┆            ┆            ┆ …        ┆         │\n",
       "└───────────┴───────────┴───────────┴───────────┴───┴────────────┴────────────┴──────────┴─────────┘"
      ]
     },
     "execution_count": 7,
     "metadata": {},
     "output_type": "execute_result"
    }
   ],
   "source": [
    "curve_trades.head(5)"
   ]
  },
  {
   "cell_type": "code",
   "execution_count": 8,
   "metadata": {},
   "outputs": [],
   "source": [
    "# load univ3 trades\n",
    "uniswapv3_trades = pl.read_parquet('data/uniswapv3_trades.parquet')"
   ]
  },
  {
   "cell_type": "code",
   "execution_count": 9,
   "metadata": {},
   "outputs": [
    {
     "data": {
      "text/html": [
       "<div><style>\n",
       ".dataframe > thead > tr > th,\n",
       ".dataframe > tbody > tr > td {\n",
       "  text-align: right;\n",
       "}\n",
       "</style>\n",
       "<small>shape: (5, 14)</small><table border=\"1\" class=\"dataframe\"><thead><tr><th>hash</th><th>to</th><th>from</th><th>blockNumber</th><th>amountIn</th><th>amountOut</th><th>amountInUSD</th><th>amountOutUSD</th><th>id</th><th>timestamp</th><th>tokenIn_symbol</th><th>tokenOut_symbol</th><th>pool_id</th><th>pool_name</th></tr><tr><td>str</td><td>str</td><td>str</td><td>i64</td><td>f64</td><td>f64</td><td>f64</td><td>f64</td><td>str</td><td>datetime[μs]</td><td>str</td><td>str</td><td>str</td><td>str</td></tr></thead><tbody><tr><td>&quot;0x5c4102f054f8…</td><td>&quot;0x7746410dc4ab…</td><td>&quot;0x7746410dc4ab…</td><td>12745930</td><td>5.1985e21</td><td>5.2000e9</td><td>5198.47893</td><td>5200.0</td><td>&quot;0x5c4102f054f8…</td><td>2021-07-02 03:59:40</td><td>&quot;DAI&quot;</td><td>&quot;USDC&quot;</td><td>&quot;0x6c6bc977e13d…</td><td>&quot;Uniswap V3 Dai…</td></tr><tr><td>&quot;0x5c4102f054f8…</td><td>&quot;0x6c6bc977e13d…</td><td>&quot;0x7746410dc4ab…</td><td>12745930</td><td>2.5525e18</td><td>5.1985e21</td><td>5216.746722</td><td>5198.47893</td><td>&quot;0x5c4102f054f8…</td><td>2021-07-02 03:59:40</td><td>&quot;WETH&quot;</td><td>&quot;DAI&quot;</td><td>&quot;0xc2e9f25be625…</td><td>&quot;Uniswap V3 Dai…</td></tr><tr><td>&quot;0x586f04f9b6b0…</td><td>&quot;0x4dfd1688ec88…</td><td>&quot;0x4dfd1688ec88…</td><td>12745930</td><td>4.5924e9</td><td>4.5899e9</td><td>4592.441333</td><td>4589.929604</td><td>&quot;0x586f04f9b6b0…</td><td>2021-07-02 03:59:40</td><td>&quot;USDT&quot;</td><td>&quot;USDC&quot;</td><td>&quot;0x7858e59e0c01…</td><td>&quot;Uniswap V3 USD…</td></tr><tr><td>&quot;0x586f04f9b6b0…</td><td>&quot;0xe592427a0aec…</td><td>&quot;0x4dfd1688ec88…</td><td>12745930</td><td>2.2500e18</td><td>4.5924e9</td><td>4598.464747</td><td>4592.441333</td><td>&quot;0x586f04f9b6b0…</td><td>2021-07-02 03:59:40</td><td>&quot;WETH&quot;</td><td>&quot;USDT&quot;</td><td>&quot;0x11b815efb8f5…</td><td>&quot;Uniswap V3 Wra…</td></tr><tr><td>&quot;0x2ca86f0901f1…</td><td>&quot;0xe66b31678d6c…</td><td>&quot;0xd9c264bc5fbb…</td><td>12745930</td><td>1.9519e17</td><td>5.2443e20</td><td>398.927577</td><td>0.0</td><td>&quot;0x2ca86f0901f1…</td><td>2021-07-02 03:59:40</td><td>&quot;WETH&quot;</td><td>&quot;AUDIO&quot;</td><td>&quot;0x8ecc2244e67d…</td><td>&quot;Uniswap V3 Aud…</td></tr></tbody></table></div>"
      ],
      "text/plain": [
       "shape: (5, 14)\n",
       "┌───────────┬───────────┬───────────┬───────────┬───┬────────────┬────────────┬──────────┬─────────┐\n",
       "│ hash      ┆ to        ┆ from      ┆ blockNumb ┆ … ┆ tokenIn_sy ┆ tokenOut_s ┆ pool_id  ┆ pool_na │\n",
       "│ ---       ┆ ---       ┆ ---       ┆ er        ┆   ┆ mbol       ┆ ymbol      ┆ ---      ┆ me      │\n",
       "│ str       ┆ str       ┆ str       ┆ ---       ┆   ┆ ---        ┆ ---        ┆ str      ┆ ---     │\n",
       "│           ┆           ┆           ┆ i64       ┆   ┆ str        ┆ str        ┆          ┆ str     │\n",
       "╞═══════════╪═══════════╪═══════════╪═══════════╪═══╪════════════╪════════════╪══════════╪═════════╡\n",
       "│ 0x5c4102f ┆ 0x7746410 ┆ 0x7746410 ┆ 12745930  ┆ … ┆ DAI        ┆ USDC       ┆ 0x6c6bc9 ┆ Uniswap │\n",
       "│ 054f8447e ┆ dc4ab1ce5 ┆ dc4ab1ce5 ┆           ┆   ┆            ┆            ┆ 77e13df9 ┆ V3 Dai  │\n",
       "│ 9ee8de692 ┆ 251eed08c ┆ 251eed08c ┆           ┆   ┆            ┆            ┆ b0de53b2 ┆ Stablec │\n",
       "│ ff10a…    ┆ f5aa2…    ┆ f5aa2…    ┆           ┆   ┆            ┆            ┆ 51522280 ┆ oin/USD │\n",
       "│           ┆           ┆           ┆           ┆   ┆            ┆            ┆ …        ┆ Co…     │\n",
       "│ 0x5c4102f ┆ 0x6c6bc97 ┆ 0x7746410 ┆ 12745930  ┆ … ┆ WETH       ┆ DAI        ┆ 0xc2e9f2 ┆ Uniswap │\n",
       "│ 054f8447e ┆ 7e13df9b0 ┆ dc4ab1ce5 ┆           ┆   ┆            ┆            ┆ 5be6257c ┆ V3 Dai  │\n",
       "│ 9ee8de692 ┆ de53b2515 ┆ 251eed08c ┆           ┆   ┆            ┆            ┆ 210d7adf ┆ Stablec │\n",
       "│ ff10a…    ┆ 22280…    ┆ f5aa2…    ┆           ┆   ┆            ┆            ┆ 0d4cd6e3 ┆ oin/Wra │\n",
       "│           ┆           ┆           ┆           ┆   ┆            ┆            ┆ …        ┆ ppe…    │\n",
       "│ 0x586f04f ┆ 0x4dfd168 ┆ 0x4dfd168 ┆ 12745930  ┆ … ┆ USDT       ┆ USDC       ┆ 0x7858e5 ┆ Uniswap │\n",
       "│ 9b6b071d9 ┆ 8ec88704e ┆ 8ec88704e ┆           ┆   ┆            ┆            ┆ 9e0c01ea ┆ V3 USD  │\n",
       "│ 2d1c1cd31 ┆ 0d43976c5 ┆ 0d43976c5 ┆           ┆   ┆            ┆            ┆ 06df3af3 ┆ Coin/Te │\n",
       "│ 3b3ed…    ┆ 8c34d…    ┆ 8c34d…    ┆           ┆   ┆            ┆            ┆ d20ac7b0 ┆ ther    │\n",
       "│           ┆           ┆           ┆           ┆   ┆            ┆            ┆ …        ┆ USD 0…  │\n",
       "│ 0x586f04f ┆ 0xe592427 ┆ 0x4dfd168 ┆ 12745930  ┆ … ┆ WETH       ┆ USDT       ┆ 0x11b815 ┆ Uniswap │\n",
       "│ 9b6b071d9 ┆ a0aece92d ┆ 8ec88704e ┆           ┆   ┆            ┆            ┆ efb8f581 ┆ V3      │\n",
       "│ 2d1c1cd31 ┆ e3edee1f1 ┆ 0d43976c5 ┆           ┆   ┆            ┆            ┆ 194ae790 ┆ Wrapped │\n",
       "│ 3b3ed…    ┆ 8e015…    ┆ 8c34d…    ┆           ┆   ┆            ┆            ┆ 06d24e0d ┆ Ether/T │\n",
       "│           ┆           ┆           ┆           ┆   ┆            ┆            ┆ …        ┆ ether … │\n",
       "│ 0x2ca86f0 ┆ 0xe66b316 ┆ 0xd9c264b ┆ 12745930  ┆ … ┆ WETH       ┆ AUDIO      ┆ 0x8ecc22 ┆ Uniswap │\n",
       "│ 901f1a44f ┆ 78d6c16e9 ┆ c5fbb2890 ┆           ┆   ┆            ┆            ┆ 44e67d0b ┆ V3 Audi │\n",
       "│ 47b892ec0 ┆ ebf358268 ┆ b66cc7a18 ┆           ┆   ┆            ┆            ┆ b6a1850b ┆ us/Wrap │\n",
       "│ ce31d…    ┆ a790b…    ┆ 9174d…    ┆           ┆   ┆            ┆            ┆ 1db825e2 ┆ ped     │\n",
       "│           ┆           ┆           ┆           ┆   ┆            ┆            ┆ …        ┆ Ether … │\n",
       "└───────────┴───────────┴───────────┴───────────┴───┴────────────┴────────────┴──────────┴─────────┘"
      ]
     },
     "execution_count": 9,
     "metadata": {},
     "output_type": "execute_result"
    }
   ],
   "source": [
    "uniswapv3_trades.head(5)"
   ]
  },
  {
   "cell_type": "code",
   "execution_count": null,
   "metadata": {},
   "outputs": [],
   "source": []
  }
 ],
 "metadata": {
  "kernelspec": {
   "display_name": ".venv",
   "language": "python",
   "name": "python3"
  },
  "language_info": {
   "codemirror_mode": {
    "name": "ipython",
    "version": 3
   },
   "file_extension": ".py",
   "mimetype": "text/x-python",
   "name": "python",
   "nbconvert_exporter": "python",
   "pygments_lexer": "ipython3",
   "version": "3.10.6"
  },
  "orig_nbformat": 4
 },
 "nbformat": 4,
 "nbformat_minor": 2
}
